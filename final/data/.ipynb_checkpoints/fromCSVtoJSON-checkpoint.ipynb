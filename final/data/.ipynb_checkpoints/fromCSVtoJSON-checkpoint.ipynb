{
 "cells": [
  {
   "cell_type": "code",
   "execution_count": 22,
   "metadata": {},
   "outputs": [],
   "source": [
    "from flask import Flask,request, jsonify\n",
    "from sklearn.externals import joblib\n",
    "import pandas as pd\n",
    "\n",
    "import os\n",
    "import numpy as np\n",
    "\n",
    "import sqlalchemy\n",
    "from sqlalchemy.ext.automap import automap_base\n",
    "from sqlalchemy.orm import Session\n",
    "from sqlalchemy import create_engine\n",
    "\n",
    "from flask import Flask, jsonify, render_template\n",
    "\n",
    "app = Flask(__name__)"
   ]
  },
  {
   "cell_type": "code",
   "execution_count": 25,
   "metadata": {},
   "outputs": [],
   "source": [
    "new = pd.read_csv('new_data.csv', 'ignore_errors', engine='python')"
   ]
  },
  {
   "cell_type": "code",
   "execution_count": 27,
   "metadata": {},
   "outputs": [],
   "source": [
    "data_df = pd.DataFrame(new)"
   ]
  },
  {
   "cell_type": "code",
   "execution_count": 28,
   "metadata": {},
   "outputs": [],
   "source": [
    "data_df.to_json(\"data.json\", orient='columns') "
   ]
  },
  {
   "cell_type": "code",
   "execution_count": 29,
   "metadata": {},
   "outputs": [],
   "source": [
    "# THIS WAS NOT NEEDED !!!\n",
    "# @app.route('/predict', methods=['GET', 'POST'])\n",
    "# def predict() :    \n",
    "#     json_ = request.json\n",
    "#     new = pd.read_csv('new_data.csv', 'ignore_errors')\n",
    "#     json_vector = new.transform(json_)\n",
    "#     query = pd.DataFrame(json_vector)\n",
    "#     prediction = regr.predict(query)\n",
    "#     return jsonify(json.dumps({'data': list({{covid}})}))\n",
    "\n",
    "# if __name__ == '__main__' :\n",
    "#      app.run(port=8895, debug=True)\n",
    "\n",
    "#print(json.dumps({'data': list({{covid}})}))"
   ]
  },
  {
   "cell_type": "code",
   "execution_count": null,
   "metadata": {},
   "outputs": [],
   "source": []
  }
 ],
 "metadata": {
  "kernelspec": {
   "display_name": "Python [conda env:PythonData] *",
   "language": "python",
   "name": "conda-env-PythonData-py"
  },
  "language_info": {
   "codemirror_mode": {
    "name": "ipython",
    "version": 3
   },
   "file_extension": ".py",
   "mimetype": "text/x-python",
   "name": "python",
   "nbconvert_exporter": "python",
   "pygments_lexer": "ipython3",
   "version": "3.6.9"
  }
 },
 "nbformat": 4,
 "nbformat_minor": 2
}
